{
 "cells": [
  {
   "cell_type": "code",
   "execution_count": 118,
   "metadata": {},
   "outputs": [],
   "source": [
    "import random\n",
    "\n",
    "\n",
    "class SudokuChecker:\n",
    "    pass\n",
    "\n",
    "\n",
    "class Sudoku: \n",
    "    def __init__(self):\n",
    "        self.board = [ [0 for list in range(9)] for list in range(9) ]\n",
    "\n",
    "\n",
    "    def __is_filled(self):\n",
    "        for r in self.board:\n",
    "            if 0 in r:\n",
    "                return False\n",
    "        \n",
    "        return True\n",
    "\n",
    "    def _check(self, pos):\n",
    "        row, col = pos\n",
    "\n",
    "        s = 0\n",
    "        bucket = []\n",
    "        for e in self.board[row]:\n",
    "            if e not in bucket:\n",
    "                bucket.append(e)\n",
    "                s += e\n",
    "            else:\n",
    "                return False\n",
    "        if s != 45:\n",
    "            return False\n",
    "\n",
    "        s = 0\n",
    "        bucket = []\n",
    "        for r in self.board:\n",
    "            if r[col] not in bucket:\n",
    "                bucket.append(r[col])\n",
    "                s += r[col]\n",
    "            else:\n",
    "                return False\n",
    "        if s != 45:\n",
    "            return False\n",
    "\n",
    "            \n",
    "\n",
    "    def _valid(self, pos, value):\n",
    "        pass\n",
    "\n",
    "    def generate(self):\n",
    "        bucket = [1, 2, 3, 4, 5, 6, 7, 8, 9]\n",
    "\n",
    "        for n in range(9*9):\n",
    "            i, j = int(i / 9), i % 9\n",
    "            choice = bucket.pop(random.choice(bucket)\n",
    "\n",
    "            if not self._valid((i, j), choice):\n",
    "                \n",
    "            self.board[i][j] = )\n",
    "\n",
    "\n",
    "    def pretty(self):\n",
    "        s = \"\"\n",
    "        for i, r in enumerate(self.board):\n",
    "            if i % 3 == 0:\n",
    "                s += '█'*23 + \"\\n\"\n",
    "\n",
    "            for j, e in enumerate(r):\n",
    "                if j != 0 and j % 3 == 0:\n",
    "                    s += \"|█\"\n",
    "                s += f\"|{e if e != 0 else ' '}\"\n",
    "            s += \"|\\n\"\n",
    "\n",
    "        s += '█'*23 + \"\\n\"\n",
    "        \n",
    "        return s\n",
    "\n",
    "    def __str__(self):\n",
    "        return self.pretty()"
   ]
  },
  {
   "cell_type": "code",
   "execution_count": 119,
   "metadata": {},
   "outputs": [],
   "source": [
    "b = Sudoku()"
   ]
  },
  {
   "cell_type": "code",
   "execution_count": 120,
   "metadata": {},
   "outputs": [
    {
     "name": "stdout",
     "output_type": "stream",
     "text": [
      "███████████████████████\n",
      "| | | |█| | | |█| | | |\n",
      "| | | |█| | | |█| | | |\n",
      "| | | |█| | | |█| | | |\n",
      "███████████████████████\n",
      "| | | |█| | | |█| | | |\n",
      "| | | |█| | | |█| | | |\n",
      "| | | |█| | | |█| | | |\n",
      "███████████████████████\n",
      "| | | |█| | | |█| | | |\n",
      "| | | |█| | | |█| | | |\n",
      "| | | |█| | | |█| | | |\n",
      "███████████████████████\n",
      "\n"
     ]
    }
   ],
   "source": [
    "print(b)"
   ]
  },
  {
   "cell_type": "code",
   "execution_count": null,
   "metadata": {},
   "outputs": [],
   "source": [
    "b.generate()"
   ]
  }
 ],
 "metadata": {
  "kernelspec": {
   "display_name": "Python 3.10.4 64-bit",
   "language": "python",
   "name": "python3"
  },
  "language_info": {
   "codemirror_mode": {
    "name": "ipython",
    "version": 3
   },
   "file_extension": ".py",
   "mimetype": "text/x-python",
   "name": "python",
   "nbconvert_exporter": "python",
   "pygments_lexer": "ipython3",
   "version": "3.10.4"
  },
  "orig_nbformat": 4,
  "vscode": {
   "interpreter": {
    "hash": "e7370f93d1d0cde622a1f8e1c04877d8463912d04d973331ad4851f04de6915a"
   }
  }
 },
 "nbformat": 4,
 "nbformat_minor": 2
}
